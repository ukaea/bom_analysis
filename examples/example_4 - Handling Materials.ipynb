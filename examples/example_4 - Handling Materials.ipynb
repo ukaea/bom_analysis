{
 "cells": [
  {
   "cell_type": "markdown",
   "metadata": {},
   "source": [
    "# Introduction\n",
    "Handling materials within BOM Analysis brings together a number of different topics within the examples.\n",
    "\n",
    "All components have a default material class. This default MaterialData does not have a data repository but acts as a parent to such a repository."
   ]
  },
  {
   "cell_type": "code",
   "execution_count": null,
   "metadata": {},
   "outputs": [],
   "source": [
    "from bom_analysis import Component, Assembly\n",
    "\n",
    "breeder = Component(ref=\"breeder\")\n",
    "breeder.material"
   ]
  },
  {
   "cell_type": "markdown",
   "metadata": {},
   "source": [
    "There are two material classes in-built to BOM Analysis which can be used. \n",
    "\n",
    "1. DFLibraryWrap imports data into a dataframe from a .json\n",
    "2. CoolPropsWrap wraps CoolProps\n",
    "\n",
    "_Note, DFLibraryWrap needs a path to the .json_"
   ]
  },
  {
   "cell_type": "code",
   "execution_count": null,
   "metadata": {},
   "outputs": [],
   "source": [
    "from bom_analysis.materials import DFLibraryWrap, CoolPropsWrap\n",
    "\n",
    "eurofer = DFLibraryWrap(mat=\"steel\")\n",
    "eurofer.path = \"./files/example_material_properties.json\"\n",
    "\n",
    "helium = CoolPropsWrap(mat=\"He\")"
   ]
  },
  {
   "cell_type": "markdown",
   "metadata": {},
   "source": [
    "### data_wrapper() - Getting Material Data\n",
    "In the loaded example, a MaterialData child which loads data from a .json has been used. It allows the data_wrapper method to extract the material properties.\n",
    "\n",
    "Note that the material defaults to ambient pressure and room temperature."
   ]
  },
  {
   "cell_type": "code",
   "execution_count": null,
   "metadata": {},
   "outputs": [],
   "source": [
    "eurofer.data_wrapper(\"thermal_conductivity\")"
   ]
  },
  {
   "cell_type": "code",
   "execution_count": null,
   "metadata": {},
   "outputs": [],
   "source": [
    "helium.data_wrapper(\"conductivity\")"
   ]
  },
  {
   "cell_type": "markdown",
   "metadata": {},
   "source": [
    "From this example, some of the challenges with different naming conventions can be seen. Importing and populating the translator aims to help with this."
   ]
  },
  {
   "cell_type": "code",
   "execution_count": null,
   "metadata": {},
   "outputs": [],
   "source": [
    "try:\n",
    "    helium.data_wrapper(\"thermal_conductivity\")\n",
    "except:\n",
    "    pass"
   ]
  },
  {
   "cell_type": "code",
   "execution_count": null,
   "metadata": {},
   "outputs": [],
   "source": [
    "from bom_analysis.utils import Translator\n",
    "\n",
    "Translator.define_translations([\"./files/translation.json\"])\n",
    "helium.data_wrapper(\"thermal_conductivity\")"
   ]
  },
  {
   "cell_type": "markdown",
   "metadata": {},
   "source": [
    "Within the errors in the above try-except the materials priority is mentioned. This is an attribute of the Config file that sets a priority order for the classes which make up the materials.\n",
    "\n",
    "## Materials Selector\n",
    "The Config.materials is a materials selector class which can be loaded as part of the configuration. For this example, it will be considered as a standalone.\n",
    "\n",
    "Libraries and information can be added to the materials selector in an order of priority,\n"
   ]
  },
  {
   "cell_type": "code",
   "execution_count": null,
   "metadata": {},
   "outputs": [],
   "source": [
    "from bom_analysis.utils import MaterialSelector\n",
    "\n",
    "ms = MaterialSelector()\n",
    "ms.add_database(DFLibraryWrap, {\"path\": \"./files/example_material_properties.json\"})\n",
    "ms.add_database(CoolPropsWrap)\n",
    "steel = ms.select_database(\"steel\")\n",
    "He = ms.select_database(\"He\")"
   ]
  },
  {
   "cell_type": "markdown",
   "metadata": {},
   "source": [
    "The selector returns a class for the particular material database."
   ]
  },
  {
   "cell_type": "code",
   "execution_count": null,
   "metadata": {},
   "outputs": [],
   "source": [
    "print(steel, \"\\n\", He)\n",
    "steel.data_wrapper(\"thermal_conductivity\")"
   ]
  },
  {
   "cell_type": "markdown",
   "metadata": {},
   "source": [
    "This allows components to be assigned materials directly, however, BOM Analysis allows for improved functionality by using the Config.material\n",
    "\n",
    "## Material Selector in Config\n",
    "Things become more automated when assigning the material selector to the config as all classes have access to the material selector"
   ]
  },
  {
   "cell_type": "code",
   "execution_count": null,
   "metadata": {},
   "outputs": [],
   "source": [
    "from bom_analysis.base import BaseConfig as Config\n",
    "\n",
    "Config.materials = ms"
   ]
  },
  {
   "cell_type": "markdown",
   "metadata": {},
   "source": [
    "All classes now have access to the material selector. One of the benefits is when a material property does not exist in on library, BOM analysis will check the others. This has an overhead but can be useful for particularly uncommon properties. Below, the example materials has the thermal conductivity for CO2 but nothing else, so when asked for density, CoolProps will be checked."
   ]
  },
  {
   "cell_type": "code",
   "execution_count": null,
   "metadata": {},
   "outputs": [],
   "source": [
    "co2 = Config.materials.select_database(\"CarbonDioxide\")\n",
    "print(ms.priority_order)\n",
    "print(co2.data_wrapper(\"thermal_conductivity\"))\n",
    "print(co2.data_wrapper(\"density\"))"
   ]
  },
  {
   "cell_type": "markdown",
   "metadata": {},
   "source": [
    "The errors occur because it was unable to find the data in the DFLibrary but a value is found in the CoolProps library\n",
    "\n",
    "Finaly, with the config material selector assigned all components can be assigned material properties automatically (if data exists)."
   ]
  },
  {
   "cell_type": "code",
   "execution_count": null,
   "metadata": {},
   "outputs": [],
   "source": [
    "from bom_analysis import Q_\n",
    "\n",
    "breeding_zone = Assembly(ref=\"bz\")\n",
    "coolant = Component(ref=\"coolant\")\n",
    "coolant.material.mat = \"He\"\n",
    "coolant.material.pressure = Q_(80, \"bar\")\n",
    "structure = Component(ref=\"structure\")\n",
    "structure.material.mat = \"steel\"\n",
    "structure.material.reftemp = Q_(500, \"degC\")\n",
    "breeding_zone.add_components([coolant, structure])\n",
    "breeding_zone.assign_all_materials()\n",
    "print(structure.material)\n",
    "print(coolant.material)"
   ]
  },
  {
   "cell_type": "markdown",
   "metadata": {},
   "source": [
    "## Conclusion\n",
    "The material data can be handled automatically with the above classes and methods allowing for easy data selection."
   ]
  },
  {
   "cell_type": "code",
   "execution_count": null,
   "metadata": {},
   "outputs": [],
   "source": []
  }
 ],
 "metadata": {
  "kernelspec": {
   "display_name": "Python 3",
   "language": "python",
   "name": "python3"
  },
  "language_info": {
   "codemirror_mode": {
    "name": "ipython",
    "version": 3
   },
   "file_extension": ".py",
   "mimetype": "text/x-python",
   "name": "python",
   "nbconvert_exporter": "python",
   "pygments_lexer": "ipython3",
   "version": "3.6.4"
  }
 },
 "nbformat": 4,
 "nbformat_minor": 5
}

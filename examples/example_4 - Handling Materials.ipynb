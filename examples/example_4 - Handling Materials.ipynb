{
 "cells": [
  {
   "cell_type": "markdown",
   "id": "826231b9-908f-4716-bb26-c3dabce22c35",
   "metadata": {},
   "source": [
    "# Introduction\n",
    "Handling materials within BOM Analysis brings together a number of different topics within the examples.\n",
    "\n",
    "All components have a default material class. This default MaterialData does not have a data repository but acts as a parent to such a repository."
   ]
  },
  {
   "cell_type": "code",
   "execution_count": null,
   "id": "4fb8ecc4-8060-4e56-859f-c89f2fceb37c",
   "metadata": {},
   "outputs": [],
   "source": [
    "from bom_analysis import Component, Assembly\n",
    "\n",
    "breeder = Component(ref=\"breeder\")\n",
    "breeder.material"
   ]
  },
  {
   "cell_type": "markdown",
   "id": "4d59f803-4a50-4f79-b496-d3aedfc07944",
   "metadata": {},
   "source": [
    "There are two material classes in-built to BOM Analysis which can be used. \n",
    "\n",
    "1. DFLibraryWrap imports data into a dataframe from a .json\n",
    "2. CoolPropsWrap wraps CoolProps\n",
    "\n",
    "_Note, DFLibraryWrap needs a path to the .json_"
   ]
  },
  {
   "cell_type": "code",
   "execution_count": null,
   "id": "26e1cbd5-6be9-440e-b49e-75eb3726e1c9",
   "metadata": {},
   "outputs": [],
   "source": [
    "from bom_analysis.materials import DFLibraryWrap, CoolPropsWrap\n",
    "\n",
    "eurofer = DFLibraryWrap(mat=\"steel\")\n",
    "eurofer.path = \"./files/example_material_properties.json\"\n",
    "\n",
    "helium = CoolPropsWrap(mat=\"He\")"
   ]
  },
  {
   "cell_type": "markdown",
   "id": "595cb30b-293d-43b6-b844-ffa5efe2f3c4",
   "metadata": {},
   "source": [
    "### data_wrapper() - Getting Material Data\n",
    "In the loaded example, a MaterialData child which loads data from a .json has been used. It allows the data_wrapper method to extract the material properties.\n",
    "\n",
    "Note that the material defaults to ambient pressure and room temperature."
   ]
  },
  {
   "cell_type": "code",
   "execution_count": null,
   "id": "e80b85a3-2b02-4bb2-ab9d-d3e80b8d2bd8",
   "metadata": {},
   "outputs": [],
   "source": [
    "eurofer.data_wrapper(\"thermal_conductivity\")"
   ]
  },
  {
   "cell_type": "code",
   "execution_count": null,
   "id": "a56c8682-a561-4c75-9737-fb7e447ff4fa",
   "metadata": {},
   "outputs": [],
   "source": [
    "helium.data_wrapper(\"conductivity\")"
   ]
  },
  {
   "cell_type": "markdown",
   "id": "1c240e38-bc58-4411-95df-6965119bb991",
   "metadata": {},
   "source": [
    "From this example, some of the challenges with different naming conventions can be seen. Importing and populating the translator aims to help with this."
   ]
  },
  {
   "cell_type": "code",
   "execution_count": null,
   "id": "2d6bc4fb-70a6-4b83-bead-34927ad0aaa1",
   "metadata": {},
   "outputs": [],
   "source": [
    "try:\n",
    "    helium.data_wrapper(\"thermal_conductivity\")\n",
    "except:\n",
    "    pass"
   ]
  },
  {
   "cell_type": "code",
   "execution_count": null,
   "id": "19117136-dfcf-4473-9c48-ba4540c197bf",
   "metadata": {},
   "outputs": [],
   "source": [
    "from bom_analysis.utils import Translator\n",
    "\n",
    "Translator.define_translations([\"./files/translation.json\"])\n",
    "helium.data_wrapper(\"thermal_conductivity\")"
   ]
  },
  {
   "cell_type": "markdown",
   "id": "792ffe44-273e-4644-8286-14664e6c3e3b",
   "metadata": {},
   "source": [
    "Within the errors in the above try-except the materials priority is mentioned. This is an attribute of the Config file that sets a priority order for the classes which make up the materials.\n",
    "\n",
    "## Materials Selector\n",
    "The Config.materials is a materials selector class which can be loaded as part of the configuration. For this example, it will be considered as a standalone.\n",
    "\n",
    "Libraries and information can be added to the materials selector in an order of priority,\n"
   ]
  },
  {
   "cell_type": "code",
   "execution_count": null,
   "id": "a78d16e4-5bfe-48e2-920d-dfa71ff1ba63",
   "metadata": {},
   "outputs": [],
   "source": [
    "from bom_analysis.utils import MaterialSelector\n",
    "\n",
    "ms = MaterialSelector()\n",
    "ms.add_database(DFLibraryWrap, {\"path\": \"./files/example_material_properties.json\"})\n",
    "ms.add_database(CoolPropsWrap)\n",
    "steel = ms.select_database(\"steel\")\n",
    "He = ms.select_database(\"He\")"
   ]
  },
  {
   "cell_type": "markdown",
   "id": "cb71826f-ce0e-49e0-9b29-ce3fe367381e",
   "metadata": {},
   "source": [
    "The selector returns a class for the particular material database."
   ]
  },
  {
   "cell_type": "code",
   "execution_count": null,
   "id": "abbf3f97-152a-4dd7-a54c-8e41c2d6b113",
   "metadata": {},
   "outputs": [],
   "source": [
    "print(steel, \"\\n\", He)\n",
    "steel.data_wrapper(\"thermal_conductivity\")"
   ]
  },
  {
   "cell_type": "markdown",
   "id": "f1405afb-7454-4e45-a95e-39ede170d522",
   "metadata": {},
   "source": [
    "This allows components to be assigned materials directly, however, BOM Analysis allows for improved functionality by using the Config.material\n",
    "\n",
    "## Material Selector in Config\n",
    "Things become more automated when assigning the material selector to the config as all classes have access to the material selector"
   ]
  },
  {
   "cell_type": "code",
   "execution_count": null,
   "id": "56b1a73b-0374-4a0d-a805-e2eb0536cf09",
   "metadata": {},
   "outputs": [],
   "source": [
    "from bom_analysis.base import BaseConfig as Config\n",
    "\n",
    "Config.materials = ms"
   ]
  },
  {
   "cell_type": "markdown",
   "id": "cfa35c5e-f6dd-441c-b60b-07c4bd4668e6",
   "metadata": {},
   "source": [
    "All classes now have access to the material selector. One of the benefits is when a material property does not exist in on library, BOM analysis will check the others. This has an overhead but can be useful for particularly uncommon properties. Below, the example materials has the thermal conductivity for CO2 but nothing else, so when asked for density, CoolProps will be checked."
   ]
  },
  {
   "cell_type": "code",
   "execution_count": null,
   "id": "e4aeb01c-6894-4cea-b263-ce00d883482d",
   "metadata": {},
   "outputs": [],
   "source": [
    "co2 = Config.materials.select_database(\"CarbonDioxide\")\n",
    "print(ms.priority_order)\n",
    "print(co2.data_wrapper(\"thermal_conductivity\"))\n",
    "print(co2.data_wrapper(\"density\"))"
   ]
  },
  {
   "cell_type": "markdown",
   "id": "5a611a8e-5b6b-4f7c-8ba4-b99291f030ba",
   "metadata": {},
   "source": [
    "The errors occur because it was unable to find the data in the DFLibrary but a value is found in the CoolProps library\n",
    "\n",
    "Finaly, with the config material selector assigned all components can be assigned material properties automatically (if data exists)."
   ]
  },
  {
   "cell_type": "code",
   "execution_count": null,
   "id": "dc69489b-3afe-4f78-8cd3-a40006b52d74",
   "metadata": {},
   "outputs": [],
   "source": [
    "from bom_analysis import Q_\n",
    "\n",
    "breeding_zone = Assembly(ref=\"bz\")\n",
    "coolant = Component(ref=\"coolant\")\n",
    "coolant.material.mat = \"He\"\n",
    "coolant.material.pressure = Q_(80, \"bar\")\n",
    "structure = Component(ref=\"structure\")\n",
    "structure.material.mat = \"steel\"\n",
    "structure.material.reftemp = Q_(500, \"degC\")\n",
    "breeding_zone.add_components([coolant, structure])\n",
    "breeding_zone.assign_all_materials()\n",
    "print(structure.material)\n",
    "print(coolant.material)"
   ]
  },
  {
   "cell_type": "markdown",
   "id": "bdab1ae3-4844-4f91-ba3b-f7fb64d83075",
   "metadata": {},
   "source": [
    "## Conclusion\n",
    "The material data can be handled automatically with the above classes and methods allowing for easy data selection."
   ]
  },
  {
   "cell_type": "code",
   "execution_count": null,
   "id": "ac672c54-30de-48c4-9a60-e2b5c76371bf",
   "metadata": {},
   "outputs": [],
   "source": []
  }
 ],
 "metadata": {
  "kernelspec": {
   "display_name": "Python 3",
   "language": "python",
   "name": "python3"
  },
  "language_info": {
   "codemirror_mode": {
    "name": "ipython",
    "version": 3
   },
   "file_extension": ".py",
   "mimetype": "text/x-python",
   "name": "python",
   "nbconvert_exporter": "python",
   "pygments_lexer": "ipython3",
   "version": "3.8.10"
  }
 },
 "nbformat": 4,
 "nbformat_minor": 5
}

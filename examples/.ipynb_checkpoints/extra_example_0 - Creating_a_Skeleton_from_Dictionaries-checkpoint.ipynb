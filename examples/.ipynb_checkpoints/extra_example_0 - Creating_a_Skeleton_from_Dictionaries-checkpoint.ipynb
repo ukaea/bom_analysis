{
 "cells": [
  {
   "cell_type": "markdown",
   "id": "bcb0eb56",
   "metadata": {},
   "source": [
    "# Introduction"
   ]
  },
  {
   "cell_type": "markdown",
   "id": "89eafbdb",
   "metadata": {},
   "source": [
    "The aim of this notebook is to demonstrate the functionality of the the Bill of Materials (BOM) Analysis Tool.\n",
    "\n",
    "In some situations, for example when having a regularly defined component it may be easier to define all the required information within the Settings and Config. The following set of examples demonstrates how to do this. The use of the settings and config definition can be useful but is less object orientated at the front end and therefore can more easily lead to mistakes."
   ]
  },
  {
   "cell_type": "markdown",
   "id": "a7d31a82",
   "metadata": {},
   "source": [
    "# Setup"
   ]
  },
  {
   "cell_type": "markdown",
   "id": "1d60d1c5",
   "metadata": {},
   "source": [
    "The Framework __init__.py initialises logging and pint. Importing ureg from it allows for the same pint database to be used throughout the analysis."
   ]
  },
  {
   "cell_type": "code",
   "execution_count": 1,
   "id": "70c8cb0e",
   "metadata": {},
   "outputs": [
    {
     "name": "stdout",
     "output_type": "stream",
     "text": [
      "100 meter\n"
     ]
    }
   ],
   "source": [
    "from bom_analysis import ureg, logging\n",
    "\n",
    "print(100 * ureg.m)"
   ]
  },
  {
   "cell_type": "markdown",
   "id": "f0c8bc6d",
   "metadata": {},
   "source": [
    "Equally, it means that the log is always the same"
   ]
  },
  {
   "cell_type": "code",
   "execution_count": 2,
   "id": "b8f1bc78",
   "metadata": {},
   "outputs": [
    {
     "name": "stdout",
     "output_type": "stream",
     "text": [
      "2021-04-11 18:34:37,758 - INFO in utils: overwriting source=Input with EFDA_D_2N66T5 v1\n",
      "\n"
     ]
    }
   ],
   "source": [
    "logging.info(\"this is added to the info handler in logging\")\n",
    "with open(\"framework.log\", \"r\") as f:\n",
    "    print(f.readlines()[-1])"
   ]
  },
  {
   "cell_type": "markdown",
   "id": "fb9f081c",
   "metadata": {},
   "source": [
    "The log is a good way of recording assumptions made and supporting debugging. It is much better than lots of print statements."
   ]
  },
  {
   "cell_type": "markdown",
   "id": "20e0f400",
   "metadata": {},
   "source": [
    "# Creating a Skeleton"
   ]
  },
  {
   "cell_type": "markdown",
   "id": "24c9a8e3",
   "metadata": {},
   "source": [
    "The skeleton forms the core of BOM Analysis. It is stored in a json and read in as a dictionary. BOM analysis also contains tools for creating a skeleton by parsing in multiple other .json."
   ]
  },
  {
   "cell_type": "markdown",
   "id": "5cc3185d",
   "metadata": {},
   "source": [
    "## Config File"
   ]
  },
  {
   "cell_type": "markdown",
   "id": "f63c0eb1",
   "metadata": {},
   "source": [
    "The Config governs the fundamental workings of the bom analysis. It can be read from a file or added to on the fly. All keys in the config file are assigned as attributes.\n",
    "\n",
    "The config class is mostly made of classmethods. This allows for the file to be shared without reinitialising. This is particularly useful when code requires a login."
   ]
  },
  {
   "cell_type": "code",
   "execution_count": 3,
   "id": "83f9129f",
   "metadata": {},
   "outputs": [
    {
     "name": "stdout",
     "output_type": "stream",
     "text": [
      "bar\n"
     ]
    }
   ],
   "source": [
    "from bom_analysis.base import BaseConfig as Config\n",
    "\n",
    "config_dict = {\"foo\": \"bar\"}\n",
    "Config.define_config(config_dict=config_dict)\n",
    "\n",
    "print(Config.foo)"
   ]
  },
  {
   "cell_type": "markdown",
   "id": "e2c808ff",
   "metadata": {},
   "source": [
    "The easiest way to create a config is loading in a .json."
   ]
  },
  {
   "cell_type": "code",
   "execution_count": 4,
   "id": "5b840e73",
   "metadata": {},
   "outputs": [],
   "source": [
    "Config.define_config(config_path=\"./files/example_config.json\")"
   ]
  },
  {
   "cell_type": "markdown",
   "id": "be44aad4",
   "metadata": {},
   "source": [
    "This Config now contains a lot of important information which will be discussed.\n",
    "\n",
    "## Translations\n",
    "\n",
    "Like the Config file, a translator class which makes use of classmethods is included in BOM Analysis. This is very important when using different material libraries, for example, CoolProps may reference water with the string \"Water\" whereas Neutron-Material-Maker uses \"H2O\". Lots of codes can be clever about the naming of things but having a translator when required is useful."
   ]
  },
  {
   "cell_type": "code",
   "execution_count": 5,
   "id": "b2392c46",
   "metadata": {},
   "outputs": [
    {
     "name": "stdout",
     "output_type": "stream",
     "text": [
      "['./files/translation.json']\n",
      "Water\n"
     ]
    }
   ],
   "source": [
    "from bom_analysis.utils import Translator\n",
    "\n",
    "print(Config.translations)\n",
    "\n",
    "Translator.define_translations(Config.translations)\n",
    "print(Translator(\"H2O\", \"CoolProps\"))"
   ]
  },
  {
   "cell_type": "markdown",
   "id": "e92de9b7",
   "metadata": {},
   "source": [
    "Adding translations to the translation file is easy and you can add a message to the log."
   ]
  },
  {
   "cell_type": "markdown",
   "id": "3f9211e6",
   "metadata": {},
   "source": [
    "## Parts and Top\n",
    "Parts contains the parts which will build the skeleton. To build the skeleton (which makes up the bill of material hierarchy), you have to define what is at the top of the hierarchy. Every part has a type and a reference, the type is the key in the part dictionary. The reference (called by .ref) is analogous to a part number which should be unique to that part.\n",
    "\n",
    "*There is a descrepancy which will need to be overcome in the future, the problem is that a part number can be the same if the part has the same fit, form and function. As analysis is performed on the parts, they may have different properties such as material temperature - this is probably fine but will require future thought*"
   ]
  },
  {
   "cell_type": "code",
   "execution_count": 6,
   "id": "9c2b9473",
   "metadata": {},
   "outputs": [
    {
     "name": "stdout",
     "output_type": "stream",
     "text": [
      "{'ref': 'blanket', 'type': 'blanket'}\n"
     ]
    }
   ],
   "source": [
    "top = Config.top\n",
    "print(top)"
   ]
  },
  {
   "cell_type": "markdown",
   "id": "082a5f34",
   "metadata": {},
   "source": [
    "The parts can also inherit from other parts. \n",
    "\n",
    "*As with Top, the locations of these parts strings can be found in the config and loaded automatically. For the purposes of this example, the parts have been created manually.*"
   ]
  },
  {
   "cell_type": "code",
   "execution_count": 7,
   "id": "4f9a2fa7",
   "metadata": {},
   "outputs": [],
   "source": [
    "parts = {\n",
    "    \"assembly\": {\n",
    "        \"class_str\": [\"bom_analysis.bom.Assembly\"],\n",
    "        \"params_name\": [\"assembly\"],\n",
    "    },\n",
    "    \"component\": {\n",
    "        \"class_str\": [\"bom_analysis.bom.Component\"],\n",
    "        \"params_name\": [\"component\"],\n",
    "    },\n",
    "}\n",
    "tokamak_parts = {\n",
    "    \"blanket\": {\n",
    "        \"inherits\": [\"assembly\"],\n",
    "        \"children\": {\n",
    "            \"breeding_zone\": {\"type\": \"breeding_pins\"},\n",
    "            \"manifold\": {\"type\": \"double_wall_mf\"},\n",
    "        },\n",
    "    },\n",
    "    \"breeding_pins\": {\"inherits\": [\"component\"]},\n",
    "    \"double_wall_mf\": {\"inherits\": [\"component\"]},\n",
    "}"
   ]
  },
  {
   "cell_type": "markdown",
   "id": "83605a0c",
   "metadata": {},
   "source": [
    "The merging of the dictionaries for these two parts happen automatically when supplied a selection of paths. This makes used of UpdateDict function in framework.utils - this is used a lot within BOM Analysis. UpdateDict is a little bit smarter than .update() in dictionaries as you can check things and prevent types from being merged."
   ]
  },
  {
   "cell_type": "code",
   "execution_count": 8,
   "id": "c0c37e18",
   "metadata": {},
   "outputs": [
    {
     "name": "stdout",
     "output_type": "stream",
     "text": [
      "{   'assembly': {   'class_str': [   'bom_analysis.bom.Assembly'],\n",
      "                    'params_name': [   'assembly']},\n",
      "    'blanket': {   'children': {   'breeding_zone': {   'type': 'breeding_pins'},\n",
      "                                   'manifold': {   'type': 'double_wall_mf'}},\n",
      "                   'inherits': [   'assembly']},\n",
      "    'breeding_pins': {   'inherits': [   'component']},\n",
      "    'component': {   'class_str': [   'bom_analysis.bom.Component'],\n",
      "                     'params_name': [   'component']},\n",
      "    'double_wall_mf': {   'inherits': [   'component']}}\n"
     ]
    }
   ],
   "source": [
    "from bom_analysis.utils import UpdateDict\n",
    "import pprint\n",
    "\n",
    "UpdateDict(tokamak_parts, parts)\n",
    "pprint.pprint(tokamak_parts, indent=4, width=1)"
   ]
  },
  {
   "cell_type": "markdown",
   "id": "9f8174e4",
   "metadata": {},
   "source": [
    "## Parsing\n",
    "The dictionaries (defined or loaded in from config) can then be parsed together to form a full skeleton based on the above imporant keys"
   ]
  },
  {
   "cell_type": "markdown",
   "id": "b9d09f27",
   "metadata": {},
   "source": [
    "There are some important strings in these dictionaries.\n",
    "\n",
    "* \"inherits\" - the strings in this list will be searched for within any part dictionaries and the dictionary from the item that is inherited from will be merged\n",
    "* \"class_str\" - string within class_str list will be used to create the classes from strings. In-built can be passed.\n",
    "* \"children\" - defines lower level in the hierarchy with the keys in the dict becoming and the \"type\" being used to search the parts\n",
    "* \"params_name\" - it is optional but a set of parameters can also be loaded into the skeleton by specifying a key to their dictionary in params_name\n",
    "\n",
    "The ConfigParser defaults to populating from the Config (and the locations of .json within) but this can be overwritted.\n",
    "\n",
    "The created skeleton is written to the skeleton attribute of the ConfigParser instance"
   ]
  },
  {
   "cell_type": "code",
   "execution_count": 9,
   "id": "35c253ab",
   "metadata": {},
   "outputs": [
    {
     "name": "stdout",
     "output_type": "stream",
     "text": [
      "{   'blanket': {   'children': {   'breeding_zone': {   'type': 'breeding_pins'},\n",
      "                                   'manifold': {   'type': 'double_wall_mf'}},\n",
      "                   'inherits': [   'assembly'],\n",
      "                   'ref': 'blanket',\n",
      "                   'type': 'blanket'},\n",
      "    'breeding_zone': {   'inherits': [   'component'],\n",
      "                         'ref': 'breeding_zone',\n",
      "                         'type': 'breeding_pins'},\n",
      "    'manifold': {   'inherits': [   'component'],\n",
      "                    'ref': 'manifold',\n",
      "                    'type': 'double_wall_mf'}}\n"
     ]
    }
   ],
   "source": [
    "from bom_analysis.parsers import ConfigParser\n",
    "\n",
    "skeleton = {}\n",
    "\n",
    "parsed = ConfigParser(skeleton, operate=False)\n",
    "\n",
    "parsed.children(skeleton, tokamak_parts, top[\"ref\"], top)\n",
    "\n",
    "print(parsed)"
   ]
  },
  {
   "cell_type": "markdown",
   "id": "c0e358f4",
   "metadata": {},
   "source": [
    ".children() has created the skeleton structure of the \"children\" but it has not done anything special strings (i.e. \"class_str\").\n",
    "\n",
    "This requires bones to be added to the skeleton (BOM analysis jumps between the parent/children and skeleton/bones analogy).\n",
    "\n",
    "To be useful the dictionary which looks up parameters names needs to be defined. In the example, we have two params_name - \"component\" and assembly.\n",
    "\n",
    "Note that you do not need any params_name or any parameters, they are treated like any other storage within the BOM Analysis"
   ]
  },
  {
   "cell_type": "code",
   "execution_count": 10,
   "id": "9bd89ee4",
   "metadata": {},
   "outputs": [],
   "source": [
    "parameters = {\n",
    "    \"component\": {\"mass\": {\"var\": \"mass\", \"unit\": \"kg\", \"value\": None}},\n",
    "    \"assembly\": {\n",
    "        \"number_of_components\": {\n",
    "            \"var\": \"number_of_components\",\n",
    "            \"unit\": None,\n",
    "            \"value\": None,\n",
    "        }\n",
    "    },\n",
    "}"
   ]
  },
  {
   "cell_type": "markdown",
   "id": "93ba73c9",
   "metadata": {},
   "source": [
    "What makes up a parameter is very flexible. By default, BOM analysis supplies two ways to handle parameters\n",
    "* parameters.ParameterFrame - a dictionary of namedTuples\n",
    "* parameters.PintFrame - a dictionary of namedTuples with Pint integrations\n",
    "These parameters were inspired by BLUEPRINT and some of the code was used.\n",
    "\n",
    "At a minimum, the namedTuple in ParameterFrame must include \"var\" and \"value\", the namedTuple in PintFrame must include \"var\", \"value\", and \"unit\"."
   ]
  },
  {
   "cell_type": "code",
   "execution_count": 11,
   "id": "15b11be0",
   "metadata": {},
   "outputs": [],
   "source": [
    "parsed.add_bones(tokamak_parts, parameters)"
   ]
  },
  {
   "cell_type": "code",
   "execution_count": 12,
   "id": "132ea0ef",
   "metadata": {},
   "outputs": [
    {
     "name": "stdout",
     "output_type": "stream",
     "text": [
      "{   'blanket': {   '_params': {   'class_str': [   'bom_analysis.parameters.PintFrame'],\n",
      "                                  'data': {   'number_of_components': {   'unit': None,\n",
      "                                                                          'value': None,\n",
      "                                                                          'var': 'number_of_components'}}},\n",
      "                   'children': {   'breeding_zone': {   'type': 'breeding_pins'},\n",
      "                                   'manifold': {   'type': 'double_wall_mf'}},\n",
      "                   'class_str': [   'bom_analysis.bom.Assembly'],\n",
      "                   'inherited': [   'assembly'],\n",
      "                   'ref': 'blanket',\n",
      "                   'type': 'blanket'},\n",
      "    'breeding_zone': {   '_params': {   'class_str': [   'bom_analysis.parameters.PintFrame'],\n",
      "                                        'data': {   'mass': {   'unit': 'kg',\n",
      "                                                                'value': None,\n",
      "                                                                'var': 'mass'}}},\n",
      "                         'class_str': [   'bom_analysis.bom.Component'],\n",
      "                         'inherited': [   'component'],\n",
      "                         'ref': 'breeding_zone',\n",
      "                         'type': 'breeding_pins'},\n",
      "    'manifold': {   '_params': {   'class_str': [   'bom_analysis.parameters.PintFrame'],\n",
      "                                   'data': {   'mass': {   'unit': 'kg',\n",
      "                                                           'value': None,\n",
      "                                                           'var': 'mass'}}},\n",
      "                    'class_str': [   'bom_analysis.bom.Component'],\n",
      "                    'inherited': [   'component'],\n",
      "                    'ref': 'manifold',\n",
      "                    'type': 'double_wall_mf'}}\n"
     ]
    }
   ],
   "source": [
    "print(parsed)"
   ]
  },
  {
   "cell_type": "markdown",
   "id": "626317a1",
   "metadata": {},
   "source": [
    "Note the \"class_str\" in params. As mentioned params is treated like any storage class within the BOM and, therefore, a string to the class needs to be supplied if the storage is not inbuilt. For this example, the PintFrame can be added."
   ]
  },
  {
   "cell_type": "markdown",
   "id": "a2022078",
   "metadata": {},
   "source": [
    "Notice how the components have inherited from the dictionaries specified in \"inherits\" - for rebuilding, these dictionaries are now captured in \"inherited\".\n",
    "\n",
    "Now that we have created a skeleton we can export it so that it can be used elsewhere."
   ]
  },
  {
   "cell_type": "code",
   "execution_count": 13,
   "id": "675343a3",
   "metadata": {},
   "outputs": [],
   "source": [
    "import json\n",
    "from pathlib import Path\n",
    "\n",
    "with open(Path(\"./example_Creating_a_Skeleton_from_Settings.json\"), \"w\") as f:\n",
    "    json.dump(parsed.skeleton, f, indent=4)"
   ]
  },
  {
   "cell_type": "markdown",
   "id": "bf2aa819",
   "metadata": {},
   "source": [
    "# Summary\n",
    "This example has shown the following:\n",
    "* Features of the config file\n",
    "* A basic translator\n",
    "* The importation of the pint library from framework\n",
    "* Message handing\n",
    "* Building a skeleton from a selection of dictionaries\n",
    "\n",
    "The next example with further expand on this skeleton."
   ]
  }
 ],
 "metadata": {
  "kernelspec": {
   "display_name": "Python 3",
   "language": "python",
   "name": "python3"
  },
  "language_info": {
   "codemirror_mode": {
    "name": "ipython",
    "version": 3
   },
   "file_extension": ".py",
   "mimetype": "text/x-python",
   "name": "python",
   "nbconvert_exporter": "python",
   "pygments_lexer": "ipython3",
   "version": "3.8.10"
  }
 },
 "nbformat": 4,
 "nbformat_minor": 5
}

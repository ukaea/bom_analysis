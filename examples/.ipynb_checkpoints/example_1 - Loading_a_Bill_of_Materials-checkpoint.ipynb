{
 "cells": [
  {
   "cell_type": "markdown",
   "metadata": {},
   "source": [
    "# Introduction\n",
    "Skeletons are the serialisable form of the bill of materials and can be loaded into an assembly.\n",
    "\n",
    "This section will introduce more advanced features of the bill of materials and then perform operations. The previously created skeleton will be loaded."
   ]
  },
  {
   "cell_type": "code",
   "execution_count": null,
   "metadata": {},
   "outputs": [],
   "source": [
    "import json\n",
    "from pathlib import Path\n",
    "\n",
    "with open(Path(\"example_Modifying_a_Skeleton_from_Settings.json\"), \"r\") as f:\n",
    "    skeleton = json.load(f)"
   ]
  },
  {
   "cell_type": "markdown",
   "metadata": {},
   "source": [
    "## Working with the Bill of Materials"
   ]
  },
  {
   "cell_type": "markdown",
   "metadata": {},
   "source": [
    "With the skeleton defined, it is very easy to load it into an assembly."
   ]
  },
  {
   "cell_type": "code",
   "execution_count": null,
   "metadata": {},
   "outputs": [],
   "source": [
    "from bom_analysis.bom import Assembly\n",
    "\n",
    "blanket = Assembly()\n",
    "blanket.from_dict(skeleton, ref=\"blanket\")\n",
    "blanket.plot_hierarchy()"
   ]
  },
  {
   "cell_type": "markdown",
   "metadata": {},
   "source": [
    "_Note, the above warnings are an important demonstration of what is happening when the skeleton is being interpreted. The nodes class was told to use a pandas dataframe, but, in order to maintain consitancy between the input and output the code attempts to give nodes (a dataframe instance) an attribute of \"class_str\" - which pandas does not like._\n",
    "\n",
    "As shown, the blanket is now an instance of assembly, it contains all the children which can be accessed like attributes"
   ]
  },
  {
   "cell_type": "code",
   "execution_count": null,
   "metadata": {},
   "outputs": [],
   "source": [
    "print(blanket.manifold)\n",
    "print(blanket.breeding_zone)"
   ]
  },
  {
   "cell_type": "markdown",
   "metadata": {},
   "source": [
    "And all the non-InBuilt have been populated."
   ]
  },
  {
   "cell_type": "code",
   "execution_count": null,
   "metadata": {},
   "outputs": [],
   "source": [
    "print(blanket.manifold.params)"
   ]
  },
  {
   "cell_type": "code",
   "execution_count": null,
   "metadata": {},
   "outputs": [],
   "source": [
    "blanket.manifold.nodes.loc[\"x_coordinate\", 0] = 0.1\n",
    "print(blanket.manifold.nodes)"
   ]
  },
  {
   "cell_type": "markdown",
   "metadata": {},
   "source": [
    "The parameter class that was defined has integrated pint units."
   ]
  },
  {
   "cell_type": "code",
   "execution_count": null,
   "metadata": {},
   "outputs": [],
   "source": [
    "blanket.manifold.params.mass"
   ]
  },
  {
   "cell_type": "markdown",
   "metadata": {},
   "source": [
    "And the unit type must be maintained when changing values"
   ]
  },
  {
   "cell_type": "code",
   "execution_count": null,
   "metadata": {},
   "outputs": [],
   "source": [
    "from bom_analysis import Q_\n",
    "\n",
    "blanket.manifold.params.mass = Q_(10, \"g\")\n",
    "print(blanket.manifold.params)"
   ]
  },
  {
   "cell_type": "markdown",
   "metadata": {},
   "source": [
    "The assembly structure can be operated on using this example calculation."
   ]
  },
  {
   "cell_type": "code",
   "execution_count": null,
   "metadata": {},
   "outputs": [],
   "source": [
    "class CountComponents:\n",
    "    def __init__(self, assembly):\n",
    "        count = 0\n",
    "        for sub in assembly:\n",
    "            count += 1\n",
    "        assembly.params.number_of_components = Q_(count)\n",
    "\n",
    "\n",
    "CountComponents(blanket)\n",
    "blanket.params"
   ]
  },
  {
   "cell_type": "markdown",
   "metadata": {},
   "source": [
    "Using the default classes should ensure that the BOM is always json serialisable. The BOM can be turned into a .json serialisable dictionary using the to_dict function."
   ]
  },
  {
   "cell_type": "markdown",
   "metadata": {},
   "source": [
    "## Useful Methods\n",
    "### flatten() - Accessing All Components within an Assembly\n",
    "The structure can be flattened so that each object below is returned in the same dictionary"
   ]
  },
  {
   "cell_type": "code",
   "execution_count": null,
   "metadata": {},
   "outputs": [],
   "source": [
    "print(blanket.flatten().keys())"
   ]
  },
  {
   "cell_type": "markdown",
   "metadata": {},
   "source": [
    "### lookup() and lookup_params() - Looking up Information within an Assembly\n",
    "These functions can be used to lookup all items below in the hierarchy"
   ]
  },
  {
   "cell_type": "code",
   "execution_count": null,
   "metadata": {},
   "outputs": [],
   "source": [
    "print(blanket.lookup(\"material\"))\n",
    "print(blanket.lookup_params(\"mass\"))"
   ]
  },
  {
   "cell_type": "markdown",
   "metadata": {},
   "source": [
    "### add_defaults() - Load Default Parameters\n",
    "Large number of default parameters can easily be loaded into the bill of materials via add_defaults in the component/assembly."
   ]
  },
  {
   "cell_type": "code",
   "execution_count": null,
   "metadata": {},
   "outputs": [],
   "source": [
    "from bom_analysis import Q_\n",
    "\n",
    "blanket.add_defaults({\"breeding_zone\": {\"mass\": Q_(500, \"kg\")}})\n",
    "print(blanket.breeding_zone.params)"
   ]
  },
  {
   "cell_type": "markdown",
   "metadata": {},
   "source": [
    "# Summary\n",
    "The brief example has shown some of the ways to work with the BOM.\n",
    "There are a number of functions within the bill of material which help access it.\n",
    "Manually creating an assembly can be time consuming so BOM Analysis provides a number of classes which can create a skeleton that can be loaded into an Assembly via from_dict."
   ]
  }
 ],
 "metadata": {
  "kernelspec": {
   "display_name": "Python 3",
   "language": "python",
   "name": "python3"
  },
  "language_info": {
   "codemirror_mode": {
    "name": "ipython",
    "version": 3
   },
   "file_extension": ".py",
   "mimetype": "text/x-python",
   "name": "python",
   "nbconvert_exporter": "python",
   "pygments_lexer": "ipython3",
   "version": "3.6.4"
  }
 },
 "nbformat": 4,
 "nbformat_minor": 5
}

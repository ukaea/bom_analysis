{
 "cells": [
  {
   "cell_type": "markdown",
   "id": "ac919ca1",
   "metadata": {},
   "source": [
    "# Introduction\n",
    "Skeletons are the serialisable form of the bill of materials and can be loaded into an assembly.\n",
    "\n",
    "This section will introduce more advanced features of the bill of materials and then perform operations. The previously created skeleton will be loaded."
   ]
  },
  {
   "cell_type": "code",
   "execution_count": 1,
   "id": "5b2242db",
   "metadata": {},
   "outputs": [],
   "source": [
    "import json\n",
    "from pathlib import Path\n",
    "with open(Path(\"example_Modifying_a_Skeleton_from_Settings.json\"), \"r\") as f:\n",
    "    skeleton = json.load(f)"
   ]
  },
  {
   "cell_type": "markdown",
   "id": "8907de6a",
   "metadata": {},
   "source": [
    "## Working with the Bill of Materials"
   ]
  },
  {
   "cell_type": "markdown",
   "id": "1580b33a",
   "metadata": {},
   "source": [
    "With the skeleton defined, it is very easy to load it into an assembly."
   ]
  },
  {
   "cell_type": "code",
   "execution_count": 2,
   "id": "4c3045f1",
   "metadata": {},
   "outputs": [
    {
     "name": "stdout",
     "output_type": "stream",
     "text": [
      "blanket\n",
      "├── breeding_zone\n",
      "└── manifold\n",
      "\n"
     ]
    },
    {
     "name": "stderr",
     "output_type": "stream",
     "text": [
      "/home/openmodelicausers/from_threadripper/bom_analysis/bom_analysis/utils.py:166: UserWarning: Pandas doesn't allow columns to be created via a new attribute name - see https://pandas.pydata.org/pandas-docs/stable/indexing.html#attribute-access\n",
      "  setattr(new_class, name, val)\n"
     ]
    }
   ],
   "source": [
    "from bom_analysis.bom import Assembly\n",
    "blanket = Assembly()\n",
    "blanket.from_dict(skeleton, ref=\"blanket\")\n",
    "blanket.plot_hierarchy()"
   ]
  },
  {
   "cell_type": "markdown",
   "id": "435fb724",
   "metadata": {},
   "source": [
    "_Note, the above warnings are an important demonstration of what is happening when the skeleton is being interpreted. The nodes class was told to use a pandas dataframe, but, in order to maintain consitancy between the input and output the code attempts to give nodes (a dataframe instance) an attribute of \"class_str\" - which pandas does not like._\n",
    "\n",
    "As shown, the blanket is now an instance of assembly, it contains all the children which can be accessed like attributes"
   ]
  },
  {
   "cell_type": "code",
   "execution_count": 3,
   "id": "025064fc",
   "metadata": {},
   "outputs": [
    {
     "name": "stdout",
     "output_type": "stream",
     "text": [
      "manifold with reference manifold\n",
      "breeding_zone with reference breeding_zone\n"
     ]
    }
   ],
   "source": [
    "print(blanket.manifold)\n",
    "print(blanket.breeding_zone)"
   ]
  },
  {
   "cell_type": "markdown",
   "id": "cb0e5c01",
   "metadata": {},
   "source": [
    "And all the non-InBuilt have been populated."
   ]
  },
  {
   "cell_type": "code",
   "execution_count": 4,
   "id": "ebd47849",
   "metadata": {},
   "outputs": [
    {
     "name": "stdout",
     "output_type": "stream",
     "text": [
      "╒═══════╤═════════╤══════════╕\n",
      "│ var   │   value │ unit     │\n",
      "╞═══════╪═════════╪══════════╡\n",
      "│ mass  │     100 │ kilogram │\n",
      "╘═══════╧═════════╧══════════╛\n"
     ]
    }
   ],
   "source": [
    "print(blanket.manifold.params)"
   ]
  },
  {
   "cell_type": "code",
   "execution_count": 5,
   "id": "ff1992f8",
   "metadata": {},
   "outputs": [
    {
     "name": "stdout",
     "output_type": "stream",
     "text": [
      "                0\n",
      "x_coordinate  0.1\n"
     ]
    }
   ],
   "source": [
    "blanket.manifold.nodes.loc[\"x_coordinate\", 0] = 0.1\n",
    "print(blanket.manifold.nodes)"
   ]
  },
  {
   "cell_type": "markdown",
   "id": "c5186af4",
   "metadata": {},
   "source": [
    "The parameter class that was defined has integrated pint units."
   ]
  },
  {
   "cell_type": "code",
   "execution_count": 6,
   "id": "9f3886f0",
   "metadata": {},
   "outputs": [
    {
     "data": {
      "text/html": [
       "100 kilogram"
      ],
      "text/latex": [
       "$100\\ \\mathrm{kilogram}$"
      ],
      "text/plain": [
       "100 <Unit('kilogram')>"
      ]
     },
     "execution_count": 6,
     "metadata": {},
     "output_type": "execute_result"
    }
   ],
   "source": [
    "blanket.manifold.params.mass"
   ]
  },
  {
   "cell_type": "markdown",
   "id": "83337a17",
   "metadata": {},
   "source": [
    "And the unit type must be maintained when changing values"
   ]
  },
  {
   "cell_type": "code",
   "execution_count": 7,
   "id": "e317bcc9",
   "metadata": {},
   "outputs": [
    {
     "name": "stdout",
     "output_type": "stream",
     "text": [
      "╒═══════╤═════════╤══════════╕\n",
      "│ var   │   value │ unit     │\n",
      "╞═══════╪═════════╪══════════╡\n",
      "│ mass  │    0.01 │ kilogram │\n",
      "╘═══════╧═════════╧══════════╛\n"
     ]
    }
   ],
   "source": [
    "from bom_analysis import Q_\n",
    "blanket.manifold.params.mass = Q_(10, \"g\")\n",
    "print(blanket.manifold.params)"
   ]
  },
  {
   "cell_type": "markdown",
   "id": "069c3f86",
   "metadata": {},
   "source": [
    "The assembly structure can be operated on using this example calculation."
   ]
  },
  {
   "cell_type": "code",
   "execution_count": 8,
   "id": "9b79df8b",
   "metadata": {},
   "outputs": [
    {
     "data": {
      "text/plain": [
       "╒══════════════════════╤═════════╤═══════════════╕\n",
       "│ var                  │   value │ unit          │\n",
       "╞══════════════════════╪═════════╪═══════════════╡\n",
       "│ number_of_components │       2 │ dimensionless │\n",
       "╘══════════════════════╧═════════╧═══════════════╛"
      ]
     },
     "execution_count": 8,
     "metadata": {},
     "output_type": "execute_result"
    }
   ],
   "source": [
    "class CountComponents():\n",
    "    def __init__(self, assembly):\n",
    "        count = 0\n",
    "        for sub in assembly:\n",
    "            count +=1\n",
    "        assembly.params.number_of_components = Q_(count)\n",
    "        \n",
    "CountComponents(blanket)\n",
    "blanket.params"
   ]
  },
  {
   "cell_type": "markdown",
   "id": "f3a9693d",
   "metadata": {},
   "source": [
    "Using the default classes should ensure that the BOM is always json serialisable. The BOM can be turned into a .json serialisable dictionary using the to_dict function."
   ]
  },
  {
   "cell_type": "markdown",
   "id": "5f567c1f",
   "metadata": {},
   "source": [
    "## Useful Methods\n",
    "### flatten() - Accessing All Components within an Assembly\n",
    "The structure can be flattened so that each object below is returned in the same dictionary"
   ]
  },
  {
   "cell_type": "code",
   "execution_count": 9,
   "id": "3caa6fdf",
   "metadata": {},
   "outputs": [
    {
     "name": "stdout",
     "output_type": "stream",
     "text": [
      "dict_keys(['blanket', 'breeding_zone', 'manifold'])\n"
     ]
    }
   ],
   "source": [
    "print(blanket.flatten().keys())"
   ]
  },
  {
   "cell_type": "markdown",
   "id": "4986cc56",
   "metadata": {},
   "source": [
    "### lookup() and lookup_params() - Looking up Information within an Assembly\n",
    "These functions can be used to lookup all items below in the hierarchy"
   ]
  },
  {
   "cell_type": "code",
   "execution_count": 10,
   "id": "b5b7026c",
   "metadata": {},
   "outputs": [
    {
     "name": "stdout",
     "output_type": "stream",
     "text": [
      "{'blanket': {'material': None}, 'breeding_zone': {'material': Material = None\n",
      "\n",
      "temperature = 293.0 kelvin\n",
      "pressure = 100000.0 pascal\n",
      "}, 'manifold': {'material': Material = eurofer\n",
      "\n",
      "temperature = 293.0 kelvin\n",
      "pressure = 100000.0 pascal\n",
      "}}\n",
      "{'blanket': {'mass': None}, 'breeding_zone': {'mass': None}, 'manifold': {'mass': <Quantity(10, 'gram')>}}\n"
     ]
    }
   ],
   "source": [
    "print(blanket.lookup(\"material\"))\n",
    "print(blanket.lookup_params(\"mass\"))"
   ]
  },
  {
   "cell_type": "markdown",
   "id": "c32917cb-0d23-46e7-9281-bf58426a76e1",
   "metadata": {},
   "source": [
    "### add_defaults() - Load Default Parameters\n",
    "Large number of default parameters can easily be loaded into the bill of materials via add_defaults in the component/assembly."
   ]
  },
  {
   "cell_type": "code",
   "execution_count": 11,
   "id": "f1222c23-1e6a-422a-936a-ba521781db24",
   "metadata": {},
   "outputs": [
    {
     "data": {
      "text/plain": [
       "╒═══════╤═════════╤══════════╕\n",
       "│ var   │   value │ unit     │\n",
       "╞═══════╪═════════╪══════════╡\n",
       "│ mass  │     500 │ kilogram │\n",
       "╘═══════╧═════════╧══════════╛"
      ]
     },
     "execution_count": 11,
     "metadata": {},
     "output_type": "execute_result"
    }
   ],
   "source": [
    "from bom_analysis import Q_\n",
    "blanket.add_defaults({\"breeding_zone\":{\"mass\":Q_(500, \"kg\")}})\n",
    "blanket.breeding_zone.params"
   ]
  },
  {
   "cell_type": "markdown",
   "id": "6f8812b4",
   "metadata": {},
   "source": [
    "# Summary\n",
    "The brief example has shown some of the ways to work with the BOM.\n",
    "There are a number of functions within the bill of material which help access it.\n",
    "Manually creating an assembly can be time consuming so BOM Analysis provides a number of classes which can create a skeleton that can be loaded into an Assembly via from_dict."
   ]
  }
 ],
 "metadata": {
  "kernelspec": {
   "display_name": "Python 3",
   "language": "python",
   "name": "python3"
  },
  "language_info": {
   "codemirror_mode": {
    "name": "ipython",
    "version": 3
   },
   "file_extension": ".py",
   "mimetype": "text/x-python",
   "name": "python",
   "nbconvert_exporter": "python",
   "pygments_lexer": "ipython3",
   "version": "3.8.10"
  }
 },
 "nbformat": 4,
 "nbformat_minor": 5
}

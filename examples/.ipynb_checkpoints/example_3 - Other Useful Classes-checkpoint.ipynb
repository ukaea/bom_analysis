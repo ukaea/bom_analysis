{
 "cells": [
  {
   "cell_type": "markdown",
   "metadata": {},
   "source": [
    "# Introduction\n",
    "BOM Analysis provides a number of classes that can be used to perform analysis on the bill of materials"
   ]
  },
  {
   "cell_type": "markdown",
   "metadata": {},
   "source": [
    "## Translator\n",
    "A translator is including in the BOM_analysis to help interfacing between different programs, it is particularly important when using materials as different databases will use different material names. Translator uses class attributes so it does not require initialisation after the translations have been defined. In the example, Carbon Dioxide could be specified in the bill of materials as CO2 but CoolProps uses the string CarbonDioxide."
   ]
  },
  {
   "cell_type": "code",
   "execution_count": null,
   "metadata": {},
   "outputs": [],
   "source": [
    "from bom_analysis.utils import Translator\n",
    "\n",
    "Translator.define_translations([\"./files/translation.json\"])\n",
    "Translator(\"CO2\", \"CoolProps\")"
   ]
  },
  {
   "cell_type": "markdown",
   "metadata": {},
   "source": [
    "## Config\n",
    "The configuration is a class which contains a lot of class properties and attributes to aid with definition of variables that are shared across all modules that may be used on the Bill of Materials.\n",
    "\n",
    "_Note, the Configuration can be populated via a dictionary._\n",
    "\n",
    "Config includes a number of different directories, most of which will default to the current working directory if not defined.\n",
    "\n"
   ]
  },
  {
   "cell_type": "code",
   "execution_count": null,
   "metadata": {},
   "outputs": [],
   "source": [
    "from bom_analysis.base import BaseConfig\n",
    "\n",
    "print(BaseConfig.plot_dir)"
   ]
  },
  {
   "cell_type": "markdown",
   "metadata": {},
   "source": [
    "It also contains the default parameter types."
   ]
  },
  {
   "cell_type": "code",
   "execution_count": null,
   "metadata": {},
   "outputs": [],
   "source": [
    "BaseConfig.default_param_type"
   ]
  },
  {
   "cell_type": "markdown",
   "metadata": {},
   "source": [
    "And a storage for a username, password, and domain."
   ]
  },
  {
   "cell_type": "code",
   "execution_count": null,
   "metadata": {},
   "outputs": [],
   "source": [
    "# Do not enter an actual username and password!\n",
    "login = BaseConfig.login_details()"
   ]
  },
  {
   "cell_type": "markdown",
   "metadata": {},
   "source": [
    "As discussed in the previous examples, Config can change how BOM Analysis operates such as by not restricting writing to params."
   ]
  },
  {
   "cell_type": "code",
   "execution_count": null,
   "metadata": {},
   "outputs": [],
   "source": [
    "BaseConfig.restrict_param = False"
   ]
  },
  {
   "cell_type": "markdown",
   "metadata": {},
   "source": [
    "## update_config\n",
    "To allow for new Config classes to be provided to BOM analysis, update_config exists."
   ]
  },
  {
   "cell_type": "code",
   "execution_count": null,
   "metadata": {},
   "outputs": [],
   "source": [
    "from bom_analysis import update_config\n",
    "\n",
    "\n",
    "class NewConfig(BaseConfig):\n",
    "    _foo = \"bar\"\n",
    "\n",
    "\n",
    "update_config(NewConfig)"
   ]
  },
  {
   "cell_type": "markdown",
   "metadata": {},
   "source": [
    "This is then accessable to modules within Bom Analysis"
   ]
  },
  {
   "cell_type": "markdown",
   "metadata": {},
   "source": [
    "## run_log\n",
    "A run_log is provided within the BOM Analysis for logging of anything used within info, warning, and error levels."
   ]
  },
  {
   "cell_type": "code",
   "execution_count": null,
   "metadata": {},
   "outputs": [],
   "source": [
    "from bom_analysis import run_log\n",
    "\n",
    "run_log.info(\"this is information\")\n",
    "run_log.warning(\"this is a warning\")\n",
    "run_log.error(\"this is an error\")"
   ]
  },
  {
   "cell_type": "markdown",
   "metadata": {},
   "source": [
    "## ureg and Q_\n",
    "For Pint to work correctly, a shared unit registry must be used. The unit registry and quantity are initialised within BOM analysis and should be used."
   ]
  },
  {
   "cell_type": "code",
   "execution_count": null,
   "metadata": {},
   "outputs": [],
   "source": [
    "from bom_analysis import ureg, Q_\n",
    "\n",
    "print(Q_(100, \"kg\"))\n",
    "print(10 * ureg(\"m\"))"
   ]
  },
  {
   "cell_type": "markdown",
   "metadata": {},
   "source": [
    "## Step and Solver\n",
    "To stack up a number of different functions to solve the Step and Solver Classes were created"
   ]
  },
  {
   "cell_type": "code",
   "execution_count": null,
   "metadata": {},
   "outputs": [],
   "source": [
    "class TFCoilOperations:\n",
    "    def turn_on(self, tf):\n",
    "        tf.params.status = \"on\"\n",
    "\n",
    "\n",
    "class Cooling:\n",
    "    def cooling_flow(self, tf):\n",
    "        tf.params.cooling_flow = Q_(10, \"kg/s\")\n",
    "\n",
    "\n",
    "from bom_analysis import Assembly, Component\n",
    "from bom_analysis.solver import Step, Solver\n",
    "\n",
    "coil_set = Assembly(ref=\"coils\")\n",
    "tf = Component(ref=\"tf\")\n",
    "coil_set.add_components([tf])\n",
    "\n",
    "first_step = Step(Cooling, \"cooling_flow\", coil_set.tf)\n",
    "second_step = Step(TFCoilOperations, \"turn_on\", coil_set.tf)\n",
    "\n",
    "solver = Solver()\n",
    "solver.build_from_step_list([first_step, second_step])\n",
    "solver.solve()\n",
    "\n",
    "print(coil_set.tf.params)"
   ]
  },
  {
   "cell_type": "markdown",
   "metadata": {},
   "source": [
    "## Conclusion\n",
    "A number of examples of useful classes have been presented that can aid with working with the bill of materials."
   ]
  },
  {
   "cell_type": "code",
   "execution_count": null,
   "metadata": {},
   "outputs": [],
   "source": []
  }
 ],
 "metadata": {
  "kernelspec": {
   "display_name": "Python 3",
   "language": "python",
   "name": "python3"
  },
  "language_info": {
   "codemirror_mode": {
    "name": "ipython",
    "version": 3
   },
   "file_extension": ".py",
   "mimetype": "text/x-python",
   "name": "python",
   "nbconvert_exporter": "python",
   "pygments_lexer": "ipython3",
   "version": "3.6.4"
  }
 },
 "nbformat": 4,
 "nbformat_minor": 5
}

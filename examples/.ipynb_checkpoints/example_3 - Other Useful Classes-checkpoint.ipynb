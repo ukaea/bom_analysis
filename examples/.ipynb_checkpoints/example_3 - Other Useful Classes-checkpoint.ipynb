{
 "cells": [
  {
   "cell_type": "markdown",
   "id": "21a6600c-9e6f-482d-b523-d2b6fcd7d006",
   "metadata": {},
   "source": [
    "# Introduction\n",
    "BOM Analysis provides a number of classes that can be used to perform analysis on the bill of materials"
   ]
  },
  {
   "cell_type": "markdown",
   "id": "e64fdd5a-a822-4e83-9ae3-ad42bc02523d",
   "metadata": {},
   "source": [
    "## Translator\n",
    "A translator is including in the BOM_analysis to help interfacing between different programs, it is particularly important when using materials as different databases will use different material names. Translator uses class attributes so it does not require initialisation after the translations have been defined. In the example, Carbon Dioxide could be specified in the bill of materials as CO2 but CoolProps uses the string CarbonDioxide."
   ]
  },
  {
   "cell_type": "code",
   "execution_count": 1,
   "id": "71dc17a6-777f-4f05-9577-0eafcc9f7910",
   "metadata": {},
   "outputs": [
    {
     "data": {
      "text/plain": [
       "'CarbonDioxide'"
      ]
     },
     "execution_count": 1,
     "metadata": {},
     "output_type": "execute_result"
    }
   ],
   "source": [
    "from bom_analysis.utils import Translator\n",
    "\n",
    "Translator.define_translations([\"./files/translation.json\"])\n",
    "Translator(\"CO2\", \"CoolProps\")"
   ]
  },
  {
   "cell_type": "markdown",
   "id": "80510c62-f674-44ea-b5ee-ac5e71504271",
   "metadata": {},
   "source": [
    "## Config\n",
    "The configuration is a class which contains a lot of class properties and attributes to aid with definition of variables that are shared across all modules that may be used on the Bill of Materials.\n",
    "\n",
    "_Note, the Configuration can be populated via a dictionary._\n",
    "\n",
    "Config includes a number of different directories, most of which will default to the current working directory if not defined.\n",
    "\n"
   ]
  },
  {
   "cell_type": "code",
   "execution_count": 2,
   "id": "e9c14cb6-2de9-4280-9a30-4093b72eabc1",
   "metadata": {},
   "outputs": [
    {
     "name": "stdout",
     "output_type": "stream",
     "text": [
      "/home/openmodelicausers/from_threadripper/bom_analysis/examples\n"
     ]
    }
   ],
   "source": [
    "from bom_analysis.base import BaseConfig\n",
    "\n",
    "print(BaseConfig.plot_dir)"
   ]
  },
  {
   "cell_type": "markdown",
   "id": "881bfa90-f26d-4bd8-8857-ae628fd05872",
   "metadata": {},
   "source": [
    "It also contains the default parameter types."
   ]
  },
  {
   "cell_type": "code",
   "execution_count": 3,
   "id": "7c41a89d-aa86-4c08-97eb-056427d40b04",
   "metadata": {},
   "outputs": [
    {
     "data": {
      "text/plain": [
       "'bom_analysis.parameters.PintFrame'"
      ]
     },
     "execution_count": 3,
     "metadata": {},
     "output_type": "execute_result"
    }
   ],
   "source": [
    "BaseConfig.default_param_type"
   ]
  },
  {
   "cell_type": "markdown",
   "id": "220df2c9-9d3a-47a3-9254-8501a16f1715",
   "metadata": {},
   "source": [
    "And a storage for a username, password, and domain."
   ]
  },
  {
   "cell_type": "code",
   "execution_count": 4,
   "id": "b0a55360-63b6-449a-b99c-695c721b9c59",
   "metadata": {},
   "outputs": [
    {
     "name": "stdout",
     "output_type": "stream",
     "text": [
      "username: sad\n",
      "········\n"
     ]
    }
   ],
   "source": [
    "# Do not enter an actual username and password!\n",
    "login = BaseConfig.login_details()"
   ]
  },
  {
   "cell_type": "markdown",
   "id": "37f27bcd-79f5-4642-b7fc-5c9b1b29ebfc",
   "metadata": {},
   "source": [
    "As discussed in the previous examples, Config can change how BOM Analysis operates such as by not restricting writing to params."
   ]
  },
  {
   "cell_type": "code",
   "execution_count": 5,
   "id": "6ef8fa33-4886-4c57-a273-f40c74428875",
   "metadata": {},
   "outputs": [],
   "source": [
    "BaseConfig.restrict_param = False"
   ]
  },
  {
   "cell_type": "markdown",
   "id": "3b39c50b-505a-4e57-bf41-84ae1b83bb2e",
   "metadata": {},
   "source": [
    "## update_config\n",
    "To allow for new Config classes to be provided to BOM analysis, update_config exists."
   ]
  },
  {
   "cell_type": "code",
   "execution_count": 6,
   "id": "92121547-d4c1-4f68-8984-9c23ada9252b",
   "metadata": {},
   "outputs": [],
   "source": [
    "from bom_analysis import update_config\n",
    "\n",
    "\n",
    "class NewConfig(BaseConfig):\n",
    "    _foo = \"bar\"\n",
    "\n",
    "\n",
    "update_config(NewConfig)"
   ]
  },
  {
   "cell_type": "markdown",
   "id": "c80f034e-db80-455d-9deb-d97ec2d59cfd",
   "metadata": {},
   "source": [
    "This is then accessable to modules within Bom Analysis"
   ]
  },
  {
   "cell_type": "markdown",
   "id": "20a5965a-2d25-415f-9dfc-8c74dc09e595",
   "metadata": {},
   "source": [
    "## run_log\n",
    "A run_log is provided within the BOM Analysis for logging of anything used within info, warning, and error levels."
   ]
  },
  {
   "cell_type": "code",
   "execution_count": 7,
   "id": "df2a7510-c417-4795-88ad-e286cf8bd996",
   "metadata": {},
   "outputs": [
    {
     "name": "stderr",
     "output_type": "stream",
     "text": [
      "2022-06-06 07:39:23,884 - ERROR in <ipython-input-7-0866b792c992>: this is an error\n"
     ]
    }
   ],
   "source": [
    "from bom_analysis import run_log\n",
    "\n",
    "run_log.info(\"this is information\")\n",
    "run_log.warning(\"this is a warning\")\n",
    "run_log.error(\"this is an error\")"
   ]
  },
  {
   "cell_type": "markdown",
   "id": "3400ef54-2d0f-4d71-b7db-548b28acca0c",
   "metadata": {},
   "source": [
    "## ureg and Q_\n",
    "For Pint to work correctly, a shared unit registry must be used. The unit registry and quantity are initialised within BOM analysis and should be used."
   ]
  },
  {
   "cell_type": "code",
   "execution_count": 8,
   "id": "d063356e-ad32-45a3-85a8-7380ea3649df",
   "metadata": {},
   "outputs": [
    {
     "name": "stdout",
     "output_type": "stream",
     "text": [
      "100 kilogram\n",
      "10 meter\n"
     ]
    }
   ],
   "source": [
    "from bom_analysis import ureg, Q_\n",
    "\n",
    "print(Q_(100, \"kg\"))\n",
    "print(10 * ureg(\"m\"))"
   ]
  },
  {
   "cell_type": "markdown",
   "id": "61f8592d-8337-48c9-b9ef-d3e52425e0fd",
   "metadata": {},
   "source": [
    "## Step and Solver\n",
    "To stack up a number of different functions to solve the Step and Solver Classes were created"
   ]
  },
  {
   "cell_type": "code",
   "execution_count": 9,
   "id": "06b8eaf0-ef71-4777-8113-b70149286ebd",
   "metadata": {},
   "outputs": [
    {
     "name": "stdout",
     "output_type": "stream",
     "text": [
      "╒══════════════╤═════════╤═══════════════════╕\n",
      "│ var          │ value   │ unit              │\n",
      "╞══════════════╪═════════╪═══════════════════╡\n",
      "│ status       │ on      │ dimensionless     │\n",
      "├──────────────┼─────────┼───────────────────┤\n",
      "│ cooling_flow │ 10      │ kilogram / second │\n",
      "╘══════════════╧═════════╧═══════════════════╛\n"
     ]
    }
   ],
   "source": [
    "class TFCoilOperations:\n",
    "    def turn_on(self, tf):\n",
    "        tf.params.status = \"on\"\n",
    "\n",
    "\n",
    "class Cooling:\n",
    "    def cooling_flow(self, tf):\n",
    "        tf.params.cooling_flow = Q_(10, \"kg/s\")\n",
    "\n",
    "\n",
    "from bom_analysis import Assembly, Component\n",
    "from bom_analysis.solver import Step, Solver\n",
    "\n",
    "coil_set = Assembly(ref=\"coils\")\n",
    "tf = Component(ref=\"tf\")\n",
    "coil_set.add_components([tf])\n",
    "\n",
    "first_step = Step(Cooling, \"cooling_flow\", coil_set.tf)\n",
    "second_step = Step(TFCoilOperations, \"turn_on\", coil_set.tf)\n",
    "\n",
    "solver = Solver()\n",
    "solver.build_from_step_list([first_step, second_step])\n",
    "solver.solve()\n",
    "\n",
    "print(coil_set.tf.params)"
   ]
  },
  {
   "cell_type": "markdown",
   "id": "02b90523-ad9b-411d-aed8-09dc0043197e",
   "metadata": {},
   "source": [
    "## Conclusion\n",
    "A number of examples of useful classes have been presented that can aid with working with the bill of materials."
   ]
  }
 ],
 "metadata": {
  "kernelspec": {
   "display_name": "Python 3",
   "language": "python",
   "name": "python3"
  },
  "language_info": {
   "codemirror_mode": {
    "name": "ipython",
    "version": 3
   },
   "file_extension": ".py",
   "mimetype": "text/x-python",
   "name": "python",
   "nbconvert_exporter": "python",
   "pygments_lexer": "ipython3",
   "version": "3.8.10"
  }
 },
 "nbformat": 4,
 "nbformat_minor": 5
}

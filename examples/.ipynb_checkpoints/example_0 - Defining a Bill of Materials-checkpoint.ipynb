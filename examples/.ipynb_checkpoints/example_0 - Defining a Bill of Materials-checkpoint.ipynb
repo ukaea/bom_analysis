{
 "cells": [
  {
   "cell_type": "markdown",
   "metadata": {},
   "source": [
    "# Defining a Bill of Materials"
   ]
  },
  {
   "cell_type": "code",
   "execution_count": null,
   "metadata": {},
   "outputs": [],
   "source": [
    "from bom_analysis import Assembly, Component"
   ]
  },
  {
   "cell_type": "markdown",
   "metadata": {},
   "source": [
    "An Assembly of components and assembly can be built with relative ease and the hierarchy then plotted and checked. The ref is a key variable that represents a unique reference for a part such as a part number."
   ]
  },
  {
   "cell_type": "code",
   "execution_count": null,
   "metadata": {},
   "outputs": [],
   "source": [
    "tokamak = Assembly(ref=\"tokamak\")"
   ]
  },
  {
   "cell_type": "markdown",
   "metadata": {},
   "source": [
    "The tokamak will for the primary assembly to which all components will be added."
   ]
  },
  {
   "cell_type": "code",
   "execution_count": null,
   "metadata": {},
   "outputs": [],
   "source": [
    "divertor_cassette = Component(ref=\"divertor\")\n",
    "tf_coil_set = Assembly(ref=\"coil_set\")\n",
    "tf_1 = Component(ref=\"north\")\n",
    "tf_2 = Component(ref=\"east\")\n",
    "tf_3 = Component(ref=\"south\")\n",
    "tf_4 = Component(ref=\"west\")"
   ]
  },
  {
   "cell_type": "markdown",
   "metadata": {},
   "source": [
    "The toroidal field coils and divertor are components and do not have a sub-assembly. The tf_coil_set has a sub-assembly, part count and a number of additional functions for use in the bill of materials. The components and assemblies can be assembled together to form a hierarchical_structure."
   ]
  },
  {
   "cell_type": "code",
   "execution_count": null,
   "metadata": {},
   "outputs": [],
   "source": [
    "tf_coil_set.add_components([tf_1, tf_2, tf_3, tf_4])\n",
    "tokamak.add_components([divertor_cassette, tf_coil_set])\n",
    "tokamak.plot_hierarchy()"
   ]
  },
  {
   "cell_type": "markdown",
   "metadata": {},
   "source": [
    "Different components within the sub-assembly can be accessed easily."
   ]
  },
  {
   "cell_type": "code",
   "execution_count": null,
   "metadata": {},
   "outputs": [],
   "source": [
    "tokamak.coil_set.south"
   ]
  },
  {
   "cell_type": "markdown",
   "metadata": {},
   "source": [
    "## Rules of ref in the Bill of Materails\n",
    "The reference is unique for a component and could be a number of different identifiers. The most common reference in engineering systems are likely to be part number but for the purposes of the example simple unique strings are used. A reference cannot be duplicated in a bill of materials when the component is different.\n",
    "\n",
    "1. References must be unique for a component/assembly\n",
    "2. Multiple same references can exist within an assembly hierarchy when it is assigned to the same component.\n",
    "\n",
    "For example, if the tokamak wanted to add another divertor cassette for a double null this meets the rules and both parts will be counted."
   ]
  },
  {
   "cell_type": "code",
   "execution_count": null,
   "metadata": {},
   "outputs": [],
   "source": [
    "tokamak.add_component(divertor_cassette)\n",
    "print(f\"{tokamak.count_ref('divertor')} divertors are in tokamak\")"
   ]
  },
  {
   "cell_type": "markdown",
   "metadata": {},
   "source": [
    "But if another coil is added to the tokamak, even at a different level, an error will be raised:"
   ]
  },
  {
   "cell_type": "code",
   "execution_count": null,
   "metadata": {},
   "outputs": [],
   "source": [
    "south = Component(ref=\"south\")\n",
    "try:\n",
    "    tokamak.add_component(south)\n",
    "except:\n",
    "    pass"
   ]
  },
  {
   "cell_type": "markdown",
   "metadata": {},
   "source": [
    "## In-Builts of Components and Assemblies\n",
    "Components and assemblies have materials and empty datastorage supplied.\n",
    "\n",
    "The datastorage used by default includes pint, BOM Analysis also includes a non-pint based storage.\n",
    "\n",
    "### Parameters"
   ]
  },
  {
   "cell_type": "code",
   "execution_count": null,
   "metadata": {},
   "outputs": [],
   "source": [
    "tokamak.params"
   ]
  },
  {
   "cell_type": "markdown",
   "metadata": {},
   "source": [
    "For strings, parameters can be supplied without a unit."
   ]
  },
  {
   "cell_type": "code",
   "execution_count": null,
   "metadata": {},
   "outputs": [],
   "source": [
    "tokamak.params.configuration = \"ST\""
   ]
  },
  {
   "cell_type": "markdown",
   "metadata": {},
   "source": [
    "But quantities must be supplied with a magnitude and unit attributes and are recommeneded to be a Pint Quantity within the Framework unit register. See Pint for more details https://pint.readthedocs.io/en/stable/index.html."
   ]
  },
  {
   "cell_type": "code",
   "execution_count": null,
   "metadata": {},
   "outputs": [],
   "source": [
    "from bom_analysis import Q_\n",
    "\n",
    "tokamak.params.mass = Q_(1000, \"tonnes\")"
   ]
  },
  {
   "cell_type": "markdown",
   "metadata": {},
   "source": [
    "Lots of additional information can be supplied to the parameter frame via a dictionary which *must* contain the var and value keys."
   ]
  },
  {
   "cell_type": "code",
   "execution_count": null,
   "metadata": {},
   "outputs": [],
   "source": [
    "tokamak.params.add_parameter(\n",
    "    var=\"major_radius\",\n",
    "    value=Q_(2, \"m\"),\n",
    "    description=\"the geometric centre of the plasma\",\n",
    ")"
   ]
  },
  {
   "cell_type": "markdown",
   "metadata": {},
   "source": [
    "The parameters can easily be accessed and printed."
   ]
  },
  {
   "cell_type": "code",
   "execution_count": null,
   "metadata": {},
   "outputs": [],
   "source": [
    "print(tokamak.params.mass)\n",
    "print(tokamak.params)"
   ]
  },
  {
   "cell_type": "markdown",
   "metadata": {},
   "source": [
    "The parameters can also be locked down so that they cannot be dynamically added to a component by setting attributes. To do this, the Config class variable restrict_params can be used. This is useful for controlling the parameters that can be used by analysis."
   ]
  },
  {
   "cell_type": "code",
   "execution_count": null,
   "metadata": {},
   "outputs": [],
   "source": [
    "from bom_analysis import BaseConfig\n",
    "\n",
    "BaseConfig.restrict_param = True\n",
    "try:\n",
    "    tokamak.params.size = \"big\"\n",
    "except:\n",
    "    pass"
   ]
  },
  {
   "cell_type": "code",
   "execution_count": null,
   "metadata": {},
   "outputs": [],
   "source": [
    "print(tokamak.params)"
   ]
  },
  {
   "cell_type": "markdown",
   "metadata": {},
   "source": [
    "### Materials\n",
    "Components have materials assigned to them as a default. The default MaterialData class can be replaced with a child of it that has access to a chosen data form."
   ]
  },
  {
   "cell_type": "code",
   "execution_count": null,
   "metadata": {},
   "outputs": [],
   "source": [
    "tokamak.divertor.material"
   ]
  },
  {
   "cell_type": "code",
   "execution_count": null,
   "metadata": {},
   "outputs": [],
   "source": [
    "tokamak.divertor.material.mat = \"Steel\"\n",
    "tokamak.divertor.material"
   ]
  },
  {
   "cell_type": "markdown",
   "metadata": {},
   "source": [
    "## Outputing Bill of Materials\n",
    "The bill of materials can be output to store results or for loading another time simply. The output is json serialisable so can be written to file. This output is known as a Skeleton."
   ]
  },
  {
   "cell_type": "code",
   "execution_count": null,
   "metadata": {},
   "outputs": [],
   "source": [
    "tokamak.to_dict()"
   ]
  },
  {
   "cell_type": "markdown",
   "metadata": {},
   "source": [
    "## Conclusion\n",
    "This example aimed to show the basics of building a Bill of Materials, the next example will cover more advanced use and loading it from a file."
   ]
  },
  {
   "cell_type": "code",
   "execution_count": null,
   "metadata": {},
   "outputs": [],
   "source": []
  }
 ],
 "metadata": {
  "kernelspec": {
   "display_name": "Python 3",
   "language": "python",
   "name": "python3"
  },
  "language_info": {
   "codemirror_mode": {
    "name": "ipython",
    "version": 3
   },
   "file_extension": ".py",
   "mimetype": "text/x-python",
   "name": "python",
   "nbconvert_exporter": "python",
   "pygments_lexer": "ipython3",
   "version": "3.6.4"
  }
 },
 "nbformat": 4,
 "nbformat_minor": 5
}

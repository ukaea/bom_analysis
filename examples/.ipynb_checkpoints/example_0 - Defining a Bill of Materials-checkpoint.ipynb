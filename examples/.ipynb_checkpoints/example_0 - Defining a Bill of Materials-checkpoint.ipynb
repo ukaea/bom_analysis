{
 "cells": [
  {
   "cell_type": "markdown",
   "id": "b2ad7f45-8449-4d36-8c53-c11684a99a56",
   "metadata": {},
   "source": [
    "# Defining a Bill of Materials"
   ]
  },
  {
   "cell_type": "code",
   "execution_count": 1,
   "id": "4de3c7f0-e9d0-4343-b697-aca45a7c1e3b",
   "metadata": {},
   "outputs": [],
   "source": [
    "from bom_analysis import Assembly, Component"
   ]
  },
  {
   "cell_type": "markdown",
   "id": "8f5ac76f",
   "metadata": {},
   "source": [
    "An Assembly of components and assembly can be built with relative ease and the hierarchy then plotted and checked. The ref is a key variable that represents a unique reference for a part such as a part number."
   ]
  },
  {
   "cell_type": "code",
   "execution_count": 2,
   "id": "e0bb3e93-2271-45c1-9b2d-8889a4b3060a",
   "metadata": {},
   "outputs": [],
   "source": [
    "tokamak = Assembly(ref=\"tokamak\")"
   ]
  },
  {
   "cell_type": "markdown",
   "id": "1ef33243-b63e-411f-9e0a-d1276b7cecc0",
   "metadata": {},
   "source": [
    "The tokamak will for the primary assembly to which all components will be added."
   ]
  },
  {
   "cell_type": "code",
   "execution_count": 3,
   "id": "6c474837",
   "metadata": {},
   "outputs": [],
   "source": [
    "divertor_cassette = Component(ref=\"divertor\")\n",
    "tf_coil_set = Assembly(ref=\"coil_set\")\n",
    "tf_1 = Component(ref=\"north\")\n",
    "tf_2 = Component(ref=\"east\")\n",
    "tf_3 = Component(ref=\"south\")\n",
    "tf_4 = Component(ref=\"west\")"
   ]
  },
  {
   "cell_type": "markdown",
   "id": "94f508f1-9f06-41bd-aa6b-a1b86e15d973",
   "metadata": {},
   "source": [
    "The toroidal field coils and divertor are components and do not have a sub-assembly. The tf_coil_set has a sub-assembly, part count and a number of additional functions for use in the bill of materials. The components and assemblies can be assembled together to form a hierarchical_structure."
   ]
  },
  {
   "cell_type": "code",
   "execution_count": 4,
   "id": "8e0eb6fc",
   "metadata": {},
   "outputs": [
    {
     "name": "stdout",
     "output_type": "stream",
     "text": [
      "tokamak\n",
      "├── coil_set\n",
      "│   ├── east\n",
      "│   ├── north\n",
      "│   ├── south\n",
      "│   └── west\n",
      "└── divertor\n",
      "\n"
     ]
    }
   ],
   "source": [
    "tf_coil_set.add_components([tf_1, tf_2, tf_3, tf_4])\n",
    "tokamak.add_components([divertor_cassette, tf_coil_set])\n",
    "tokamak.plot_hierarchy()"
   ]
  },
  {
   "cell_type": "markdown",
   "id": "43b0efb1-b8b7-4dcb-9a74-137d7b0dd502",
   "metadata": {},
   "source": [
    "Different components within the sub-assembly can be accessed easily."
   ]
  },
  {
   "cell_type": "code",
   "execution_count": 5,
   "id": "224485cf-8edb-4b49-836b-0ad15652ad02",
   "metadata": {},
   "outputs": [
    {
     "data": {
      "text/plain": [
       "\n",
       "Component.ref = south\n",
       "identity = 0x7f23dec82760"
      ]
     },
     "execution_count": 5,
     "metadata": {},
     "output_type": "execute_result"
    }
   ],
   "source": [
    "tokamak.coil_set.south"
   ]
  },
  {
   "cell_type": "markdown",
   "id": "4076b59e-11db-4bc6-b287-4710ba1e0e1b",
   "metadata": {},
   "source": [
    "## Rules of ref in the Bill of Materails\n",
    "The reference is unique for a component and could be a number of different identifiers. The most common reference in engineering systems are likely to be part number but for the purposes of the example simple unique strings are used. A reference cannot be duplicated in a bill of materials when the component is different.\n",
    "\n",
    "1. References must be unique for a component/assembly\n",
    "2. Multiple same references can exist within an assembly hierarchy when it is assigned to the same component.\n",
    "\n",
    "For example, if the tokamak wanted to add another divertor cassette for a double null this meets the rules and both parts will be counted."
   ]
  },
  {
   "cell_type": "code",
   "execution_count": 6,
   "id": "176beca6-b167-45f4-aa63-ce1863d0217c",
   "metadata": {},
   "outputs": [
    {
     "name": "stdout",
     "output_type": "stream",
     "text": [
      "2 divertors are in tokamak\n"
     ]
    }
   ],
   "source": [
    "tokamak.add_component(divertor_cassette)\n",
    "print(f\"{tokamak.count_ref('divertor')} divertors are in tokamak\")"
   ]
  },
  {
   "cell_type": "markdown",
   "id": "30473883-f72b-4a60-856c-959be5c79434",
   "metadata": {},
   "source": [
    "But if another coil is added to the tokamak, even at a different level, an error will be raised:"
   ]
  },
  {
   "cell_type": "code",
   "execution_count": 7,
   "id": "edcfd98b-03d0-4c44-a5a7-dfe64c2bc9de",
   "metadata": {},
   "outputs": [
    {
     "name": "stderr",
     "output_type": "stream",
     "text": [
      "2022-06-06 07:35:59,033 - ERROR in bom: south has already been used but instances are not the same\n"
     ]
    }
   ],
   "source": [
    "south = Component(ref=\"south\")\n",
    "try:\n",
    "    tokamak.add_component(south)\n",
    "except:\n",
    "    pass"
   ]
  },
  {
   "cell_type": "markdown",
   "id": "f7d4ae09-8c26-4ac3-a278-036a2f7183ae",
   "metadata": {},
   "source": [
    "## In-Builts of Components and Assemblies\n",
    "Components and assemblies have materials and empty datastorage supplied.\n",
    "\n",
    "The datastorage used by default includes pint, BOM Analysis also includes a non-pint based storage.\n",
    "\n",
    "### Parameters"
   ]
  },
  {
   "cell_type": "code",
   "execution_count": 8,
   "id": "f4109992-5ee4-4d16-9584-0a3086dc4353",
   "metadata": {},
   "outputs": [
    {
     "data": {
      "text/plain": [
       "empty PintFrame Parameter DataFrame"
      ]
     },
     "execution_count": 8,
     "metadata": {},
     "output_type": "execute_result"
    }
   ],
   "source": [
    "tokamak.params"
   ]
  },
  {
   "cell_type": "markdown",
   "id": "0bbad020-0d64-49a9-8e6d-60e8d1762be5",
   "metadata": {},
   "source": [
    "For strings, parameters can be supplied without a unit."
   ]
  },
  {
   "cell_type": "code",
   "execution_count": 9,
   "id": "a55e1f8e-fc35-484b-9ce7-9fc3516d255c",
   "metadata": {},
   "outputs": [],
   "source": [
    "tokamak.params.configuration = \"ST\""
   ]
  },
  {
   "cell_type": "markdown",
   "id": "3edd2491-fd16-458e-8502-233570dac8be",
   "metadata": {},
   "source": [
    "But quantities must be supplied with a magnitude and unit attributes and are recommeneded to be a Pint Quantity within the Framework unit register. See Pint for more details https://pint.readthedocs.io/en/stable/index.html."
   ]
  },
  {
   "cell_type": "code",
   "execution_count": 10,
   "id": "1389aa22-427a-4298-9b61-6a372ff3e86f",
   "metadata": {},
   "outputs": [],
   "source": [
    "from bom_analysis import Q_\n",
    "tokamak.params.mass = Q_(1000, \"tonnes\")"
   ]
  },
  {
   "cell_type": "markdown",
   "id": "179ca0b4-f98a-4d5a-b4ff-93084bc24691",
   "metadata": {},
   "source": [
    "Lots of additional information can be supplied to the parameter frame via a dictionary which *must* contain the var and value keys."
   ]
  },
  {
   "cell_type": "code",
   "execution_count": 11,
   "id": "35745721-1533-46a8-a481-3c3e3c375096",
   "metadata": {},
   "outputs": [],
   "source": [
    "tokamak.params.add_parameter(name=\"major_radius\", quantity=Q_(2, \"m\"), description=\"the geometric centre of the plasma\")"
   ]
  },
  {
   "cell_type": "markdown",
   "id": "49215370-6f7c-4285-97a4-1c47cb73350b",
   "metadata": {},
   "source": [
    "The parameters can easily be accessed and printed."
   ]
  },
  {
   "cell_type": "code",
   "execution_count": 12,
   "id": "9e68f81a-d9c9-4aa1-8865-6bfd1ed49f80",
   "metadata": {},
   "outputs": [
    {
     "name": "stdout",
     "output_type": "stream",
     "text": [
      "1000 metric_ton\n",
      "╒═══════════════╤═════════╤═══════════════╤════════════════════════════════════╕\n",
      "│ var           │ value   │ unit          │ description                        │\n",
      "╞═══════════════╪═════════╪═══════════════╪════════════════════════════════════╡\n",
      "│ major_radius  │ 2       │ meter         │ the geometric centre of the plasma │\n",
      "├───────────────┼─────────┼───────────────┼────────────────────────────────────┤\n",
      "│ mass          │ 1000    │ metric_ton    │                                    │\n",
      "├───────────────┼─────────┼───────────────┼────────────────────────────────────┤\n",
      "│ configuration │ ST      │ dimensionless │                                    │\n",
      "╘═══════════════╧═════════╧═══════════════╧════════════════════════════════════╛\n"
     ]
    }
   ],
   "source": [
    "print(tokamak.params.mass)\n",
    "print(tokamak.params)"
   ]
  },
  {
   "cell_type": "markdown",
   "id": "46226ff9-ccd5-455a-bc74-bb4b63e49d8e",
   "metadata": {},
   "source": [
    "The parameters can also be locked down so that they cannot be dynamically added to a component by setting attributes. To do this, the Config class variable restrict_params can be used. This is useful for controlling the parameters that can be used by analysis."
   ]
  },
  {
   "cell_type": "code",
   "execution_count": 13,
   "id": "d0730051-61d0-4f63-a5f8-844bf36e7eda",
   "metadata": {},
   "outputs": [
    {
     "name": "stderr",
     "output_type": "stream",
     "text": [
      "2022-06-06 07:35:59,072 - ERROR in parameters: parameter <size> not found, add new parameterusing add_parameter_from_dict to ensure correct formator set the Config.restrict_param == False to add on fly\n"
     ]
    }
   ],
   "source": [
    "from bom_analysis import BaseConfig\n",
    "BaseConfig.restrict_param = True\n",
    "try:\n",
    "    tokamak.params.size = \"big\"\n",
    "except:\n",
    "    pass\n"
   ]
  },
  {
   "cell_type": "code",
   "execution_count": 14,
   "id": "7c8c29dc-e238-401a-b069-6dc7a9b5aba4",
   "metadata": {},
   "outputs": [
    {
     "data": {
      "text/plain": [
       "╒═══════════════╤═════════╤═══════════════╤════════════════════════════════════╕\n",
       "│ var           │ value   │ unit          │ description                        │\n",
       "╞═══════════════╪═════════╪═══════════════╪════════════════════════════════════╡\n",
       "│ major_radius  │ 2       │ meter         │ the geometric centre of the plasma │\n",
       "├───────────────┼─────────┼───────────────┼────────────────────────────────────┤\n",
       "│ mass          │ 1000    │ metric_ton    │                                    │\n",
       "├───────────────┼─────────┼───────────────┼────────────────────────────────────┤\n",
       "│ configuration │ ST      │ dimensionless │                                    │\n",
       "╘═══════════════╧═════════╧═══════════════╧════════════════════════════════════╛"
      ]
     },
     "execution_count": 14,
     "metadata": {},
     "output_type": "execute_result"
    }
   ],
   "source": [
    "tokamak.params"
   ]
  },
  {
   "cell_type": "markdown",
   "id": "4a4b8871-1812-4e0b-b2f4-f22fa586e857",
   "metadata": {},
   "source": [
    "### Materials\n",
    "Components have materials assigned to them as a default. The default MaterialData class can be replaced with a child of it that has access to a chosen data form."
   ]
  },
  {
   "cell_type": "code",
   "execution_count": 15,
   "id": "5710a3af-c1ae-42cd-9722-ea5e801a2fdc",
   "metadata": {},
   "outputs": [
    {
     "data": {
      "text/plain": [
       "Material = None\n",
       "\n",
       "temperature = 293.0 kelvin\n",
       "pressure = 100000.0 pascal"
      ]
     },
     "execution_count": 15,
     "metadata": {},
     "output_type": "execute_result"
    }
   ],
   "source": [
    "tokamak.divertor.material"
   ]
  },
  {
   "cell_type": "code",
   "execution_count": 16,
   "id": "012aab7e-0c45-40f1-862b-d3ca56ca63be",
   "metadata": {},
   "outputs": [
    {
     "data": {
      "text/plain": [
       "Material = Eurofer\n",
       "\n",
       "temperature = 293.0 kelvin\n",
       "pressure = 100000.0 pascal"
      ]
     },
     "execution_count": 16,
     "metadata": {},
     "output_type": "execute_result"
    }
   ],
   "source": [
    "tokamak.divertor.material.mat = \"Eurofer\"\n",
    "tokamak.divertor.material"
   ]
  },
  {
   "cell_type": "markdown",
   "id": "0682b150-51c1-46f1-9c9e-2e8e00470819",
   "metadata": {},
   "source": [
    "## Outputing Bill of Materials\n",
    "The bill of materials can be output to store results or for loading another time simply. The output is json serialisable so can be written to file. This output is known as a Skeleton."
   ]
  },
  {
   "cell_type": "code",
   "execution_count": 17,
   "id": "43908846-2785-4a3e-9761-fd1d27315c72",
   "metadata": {},
   "outputs": [
    {
     "data": {
      "text/plain": [
       "{'tokamak': {'_ref': 'tokamak',\n",
       "  '_assignment': [],\n",
       "  '_params': {'class_str': ['bom_analysis.parameters.PintFrame'],\n",
       "   'data': {'major_radius': {'var': 'major_radius',\n",
       "     'value': 2,\n",
       "     'unit': 'meter',\n",
       "     'description': 'the geometric centre of the plasma'},\n",
       "    'mass': {'var': 'mass',\n",
       "     'value': 1000,\n",
       "     'unit': 'metric_ton',\n",
       "     'description': None},\n",
       "    'configuration': {'var': 'configuration',\n",
       "     'value': 'ST',\n",
       "     'unit': 'dimensionless',\n",
       "     'description': None}}},\n",
       "  '_part_count': {'divertor': 2, 'coil_set': 1, '_counter': 'True'},\n",
       "  'class_str': ['bom_analysis.bom.Assembly'],\n",
       "  'children': {'divertor': {'type': 'divertor'},\n",
       "   'coil_set': {'type': 'coil_set'}}},\n",
       " 'divertor': {'_ref': 'divertor',\n",
       "  '_assignment': [],\n",
       "  '_params': {'class_str': ['bom_analysis.parameters.PintFrame'], 'data': {}},\n",
       "  '_material': {'_mat': 'Eurofer',\n",
       "   '_pressure': '100000000.0 gram / meter / second ** 2',\n",
       "   '_temperature': '293.0 kelvin',\n",
       "   '_irradiation': '0.0 dimensionless',\n",
       "   'class_str': ['bom_analysis.materials.MaterialData']},\n",
       "  'class_str': ['bom_analysis.bom.Component']},\n",
       " 'coil_set': {'_ref': 'coil_set',\n",
       "  '_assignment': [],\n",
       "  '_params': {'class_str': ['bom_analysis.parameters.PintFrame'], 'data': {}},\n",
       "  '_part_count': {'north': 1,\n",
       "   'east': 1,\n",
       "   'south': 1,\n",
       "   'west': 1,\n",
       "   '_counter': 'True'},\n",
       "  'class_str': ['bom_analysis.bom.Assembly'],\n",
       "  'children': {'north': {'type': 'north'},\n",
       "   'east': {'type': 'east'},\n",
       "   'south': {'type': 'south'},\n",
       "   'west': {'type': 'west'}}},\n",
       " 'north': {'_ref': 'north',\n",
       "  '_assignment': [],\n",
       "  '_params': {'class_str': ['bom_analysis.parameters.PintFrame'], 'data': {}},\n",
       "  '_material': {'_mat': None,\n",
       "   '_pressure': '100000000.0 gram / meter / second ** 2',\n",
       "   '_temperature': '293.0 kelvin',\n",
       "   '_irradiation': '0.0 dimensionless',\n",
       "   'class_str': ['bom_analysis.materials.MaterialData']},\n",
       "  'class_str': ['bom_analysis.bom.Component']},\n",
       " 'east': {'_ref': 'east',\n",
       "  '_assignment': [],\n",
       "  '_params': {'class_str': ['bom_analysis.parameters.PintFrame'], 'data': {}},\n",
       "  '_material': {'_mat': None,\n",
       "   '_pressure': '100000000.0 gram / meter / second ** 2',\n",
       "   '_temperature': '293.0 kelvin',\n",
       "   '_irradiation': '0.0 dimensionless',\n",
       "   'class_str': ['bom_analysis.materials.MaterialData']},\n",
       "  'class_str': ['bom_analysis.bom.Component']},\n",
       " 'south': {'_ref': 'south',\n",
       "  '_assignment': [],\n",
       "  '_params': {'class_str': ['bom_analysis.parameters.PintFrame'], 'data': {}},\n",
       "  '_material': {'_mat': None,\n",
       "   '_pressure': '100000000.0 gram / meter / second ** 2',\n",
       "   '_temperature': '293.0 kelvin',\n",
       "   '_irradiation': '0.0 dimensionless',\n",
       "   'class_str': ['bom_analysis.materials.MaterialData']},\n",
       "  'class_str': ['bom_analysis.bom.Component']},\n",
       " 'west': {'_ref': 'west',\n",
       "  '_assignment': [],\n",
       "  '_params': {'class_str': ['bom_analysis.parameters.PintFrame'], 'data': {}},\n",
       "  '_material': {'_mat': None,\n",
       "   '_pressure': '100000000.0 gram / meter / second ** 2',\n",
       "   '_temperature': '293.0 kelvin',\n",
       "   '_irradiation': '0.0 dimensionless',\n",
       "   'class_str': ['bom_analysis.materials.MaterialData']},\n",
       "  'class_str': ['bom_analysis.bom.Component']}}"
      ]
     },
     "execution_count": 17,
     "metadata": {},
     "output_type": "execute_result"
    }
   ],
   "source": [
    "tokamak.to_dict()"
   ]
  },
  {
   "cell_type": "markdown",
   "id": "1cf5ce9b-b7e2-47a1-887c-5cfff2e159fd",
   "metadata": {},
   "source": [
    "## Conclusion\n",
    "This example aimed to show the basics of building a Bill of Materials, the next example will cover more advanced use and loading it from a file."
   ]
  },
  {
   "cell_type": "code",
   "execution_count": null,
   "id": "4f2d2969-873d-433f-89b9-f7c98cd280e6",
   "metadata": {},
   "outputs": [],
   "source": []
  }
 ],
 "metadata": {
  "kernelspec": {
   "display_name": "Python 3",
   "language": "python",
   "name": "python3"
  },
  "language_info": {
   "codemirror_mode": {
    "name": "ipython",
    "version": 3
   },
   "file_extension": ".py",
   "mimetype": "text/x-python",
   "name": "python",
   "nbconvert_exporter": "python",
   "pygments_lexer": "ipython3",
   "version": "3.8.10"
  }
 },
 "nbformat": 4,
 "nbformat_minor": 5
}
